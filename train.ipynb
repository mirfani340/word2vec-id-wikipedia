{
 "cells": [
  {
   "cell_type": "markdown",
   "metadata": {},
   "source": [
    "### Extracting The Datasets"
   ]
  },
  {
   "cell_type": "code",
   "execution_count": null,
   "metadata": {},
   "outputs": [],
   "source": [
    "import io\n",
    "import time\n",
    "from datetime import timedelta\n",
    "import gensim\n",
    "\n",
    "if __name__ == '__main__':\n",
    "    start_time = time.time()\n",
    "    print('Streaming wiki...')\n",
    "    id_wiki = gensim.corpora.WikiCorpus(\n",
    "        './datasets/2023/bz2/idwiki-20230520-pages-articles-multistream.xml.bz2',\n",
    "        dictionary={}, lower=True\n",
    "    )\n",
    "    \n",
    "    article_count = 0\n",
    "    with io.open('./datasets/2023/txt/idwiki_20230520.txt', 'w', encoding='utf-8') as wiki_txt:\n",
    "        for text in id_wiki.get_texts():\n",
    "\n",
    "            wiki_txt.write(\" \".join(text) + '\\n')\n",
    "            article_count += 1\n",
    "\n",
    "            if article_count % 10000 == 0:\n",
    "                print('{} articles processed'.format(article_count))\n",
    "        print('total: {} articles'.format(article_count))\n",
    "\n",
    "    finish_time = time.time()\n",
    "    print('Elapsed time: {}'.format(timedelta(seconds=finish_time-start_time)))"
   ]
  },
  {
   "cell_type": "markdown",
   "metadata": {},
   "source": [
    "### Training Word2Vec"
   ]
  },
  {
   "cell_type": "code",
   "execution_count": null,
   "metadata": {},
   "outputs": [],
   "source": [
    "import time\n",
    "import multiprocessing\n",
    "from datetime import timedelta\n",
    "from gensim.models import word2vec\n",
    "\n",
    "if __name__ == '__main__':\n",
    "    start_time = time.time()\n",
    "    print('Training Word2Vec Model...')\n",
    "    sentences = word2vec.LineSentence('./datasets/2023/txt/idwiki_new_lower_latest.txt')\n",
    "    id_w2v = word2vec.Word2Vec(sentences, vector_size=200, workers=multiprocessing.cpu_count()-1, sg=1, window=2)\n",
    "    id_w2v.save('model/windows_2/idwiki_word2vec_200_skip-gram_window_2_new_lower.model')\n",
    "    finish_time = time.time()\n",
    "\n",
    "    print('Finished. Elapsed time: {}'.format(timedelta(seconds=finish_time-start_time)))\n",
    "    "
   ]
  },
  {
   "cell_type": "code",
   "execution_count": 10,
   "metadata": {},
   "outputs": [
    {
     "name": "stdout",
     "output_type": "stream",
     "text": [
      "Training Word2Vec Model...\n"
     ]
    }
   ],
   "source": [
    "import time\n",
    "import multiprocessing\n",
    "from datetime import timedelta\n",
    "from gensim.models import word2vec\n",
    "\n",
    "start_time = time.time()\n",
    "print('Training Word2Vec Model...')\n",
    "# Paths to your two datasets\n",
    "\n",
    "dataset1_path = './datasets/2023/txt/idwiki_20230520.txt'\n",
    "dataset2_path = './datasets/2023/txt/idwiki_new_lower_latest.txt'\n",
    "\n",
    "def combine_datasets(dataset1_path, dataset2_path):\n",
    "    for sentence in word2vec.LineSentence(dataset1_path):\n",
    "        yield sentence\n",
    "    for sentence in word2vec.LineSentence(dataset2_path):\n",
    "        yield sentence\n",
    "\n",
    "# Load and combine the datasets using the custom generator\n",
    "sentences = list(combine_datasets(dataset1_path, dataset2_path))  # Convert to a list\n",
    "\n",
    "id_w2v = word2vec.Word2Vec(sentences, vector_size=200, workers=multiprocessing.cpu_count() - 1, sg=1, window=2)\n",
    "\n",
    "# Save the trained model\n",
    "id_w2v.save('./model/model_new/windows_2_new_multiple_corpus/idwiki_word2vec_200_skip-gram_window_2_new_lower.model')\n",
    "finish_time = time.time()\n",
    "print('Finished. Elapsed time: {}'.format(timedelta(seconds=finish_time - start_time)))"
   ]
  }
 ],
 "metadata": {
  "kernelspec": {
   "display_name": "word2vec-project",
   "language": "python",
   "name": "python3"
  },
  "language_info": {
   "codemirror_mode": {
    "name": "ipython",
    "version": 3
   },
   "file_extension": ".py",
   "mimetype": "text/x-python",
   "name": "python",
   "nbconvert_exporter": "python",
   "pygments_lexer": "ipython3",
   "version": "3.11.5"
  }
 },
 "nbformat": 4,
 "nbformat_minor": 2
}
