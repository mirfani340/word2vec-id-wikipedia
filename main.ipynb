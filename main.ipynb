{
 "cells": [
  {
   "cell_type": "code",
   "execution_count": null,
   "metadata": {},
   "outputs": [],
   "source": [
    "import io\n",
    "import time\n",
    "from datetime import timedelta\n",
    "import gensim\n",
    "\n",
    "if __name__ == '__main__':\n",
    "    start_time = time.time()\n",
    "    print('Streaming wiki...')\n",
    "    id_wiki = gensim.corpora.WikiCorpus(\n",
    "        './datasets/idwiki-latest-pages-articles.xml.bz2',\n",
    "        dictionary={}, lower=True\n",
    "    )\n",
    "    \n",
    "    article_count = 0\n",
    "    with io.open('./datasets/idwiki_new_lower.txt', 'w', encoding='utf-8') as wiki_txt:\n",
    "        for text in id_wiki.get_texts():\n",
    "\n",
    "            wiki_txt.write(\" \".join(text) + '\\n')\n",
    "            article_count += 1\n",
    "\n",
    "            if article_count % 10000 == 0:\n",
    "                print('{} articles processed'.format(article_count))\n",
    "        print('total: {} articles'.format(article_count))\n",
    "\n",
    "    finish_time = time.time()\n",
    "    print('Elapsed time: {}'.format(timedelta(seconds=finish_time-start_time)))"
   ]
  },
  {
   "cell_type": "markdown",
   "metadata": {},
   "source": [
    "### Training Word2Vec"
   ]
  },
  {
   "cell_type": "code",
   "execution_count": 7,
   "metadata": {},
   "outputs": [
    {
     "name": "stdout",
     "output_type": "stream",
     "text": [
      "Training Word2Vec Model...\n",
      "Finished. Elapsed time: 0:15:18.877293\n"
     ]
    }
   ],
   "source": [
    "import time\n",
    "import multiprocessing\n",
    "from datetime import timedelta\n",
    "from gensim.models import word2vec\n",
    "\n",
    "if __name__ == '__main__':\n",
    "    start_time = time.time()\n",
    "    print('Training Word2Vec Model...')\n",
    "    sentences = word2vec.LineSentence('./datasets/idwiki_new_lower.txt')\n",
    "    id_w2v = word2vec.Word2Vec(sentences, vector_size=200, workers=multiprocessing.cpu_count()-1, sg=1, window=2)\n",
    "    id_w2v.save('model/idwiki_word2vec_200_skip-gram_window_2_new_lower.model')\n",
    "    finish_time = time.time()\n",
    "\n",
    "    print('Finished. Elapsed time: {}'.format(timedelta(seconds=finish_time-start_time)))\n"
   ]
  },
  {
   "cell_type": "markdown",
   "metadata": {},
   "source": [
    "### Model Testing"
   ]
  },
  {
   "cell_type": "code",
   "execution_count": 10,
   "metadata": {},
   "outputs": [
    {
     "name": "stdout",
     "output_type": "stream",
     "text": [
      "\n",
      "Words similar to user input:\n",
      "dosen: 1.0\n",
      "pengajar: 0.7999383807182312\n",
      "profesor: 0.7081513404846191\n",
      "almamaternya: 0.6806699633598328\n",
      "akademikus: 0.6767548322677612\n"
     ]
    }
   ],
   "source": [
    "from gensim.models import Word2Vec\n",
    "\n",
    "# Load the trained Word2Vec model\n",
    "model = Word2Vec.load('model/idwiki_word2vec_200_skip-gram_window_2_new_lower.model')\n",
    "\n",
    "# Get word vectors for user input\n",
    "user_input = input(\"Enter your custom text: \")\n",
    "user_tokens = user_input.split()\n",
    "\n",
    "# Initialize an empty list to store word vectors\n",
    "word_vectors = []\n",
    "\n",
    "# Iterate through the tokens in the user input\n",
    "for word in user_tokens:\n",
    "    if word in model.wv:\n",
    "        word_vectors.append(model.wv[word])\n",
    "    else:\n",
    "        print(f\"Word '{word}' not in vocabulary\")\n",
    "\n",
    "# Perform operations on word vectors\n",
    "if word_vectors:\n",
    "    # Find words similar to the words in the user input\n",
    "    similar_words = model.wv.most_similar(positive=word_vectors, topn=5)\n",
    "    \n",
    "    print(\"\\nWords similar to user input:\")\n",
    "    for word, similarity in similar_words:\n",
    "        print(f\"{word}: {similarity}\")\n",
    "else:\n",
    "    print(\"No valid words found in the vocabulary for similarity analysis.\")\n"
   ]
  },
  {
   "cell_type": "markdown",
   "metadata": {},
   "source": [
    "### Model Checks"
   ]
  },
  {
   "cell_type": "code",
   "execution_count": 9,
   "metadata": {},
   "outputs": [
    {
     "name": "stdout",
     "output_type": "stream",
     "text": [
      "The model was trained using Skip-gram.\n",
      "Windows size: 2\n"
     ]
    }
   ],
   "source": [
    "from gensim.models import Word2Vec\n",
    "\n",
    "# Load the Word2Vec model\n",
    "model = Word2Vec.load('model/idwiki_word2vec_200_skip-gram_window_2_new_lower.model')\n",
    "\n",
    "# Check the 'sg' parameter\n",
    "if model.sg == 1:\n",
    "    print(\"The model was trained using Skip-gram.\")\n",
    "    print(f\"Windows size: {model.window}\")\n",
    "else:\n",
    "    print(\"The model was trained using CBOW.\")\n"
   ]
  }
 ],
 "metadata": {
  "kernelspec": {
   "display_name": "word2vec-project",
   "language": "python",
   "name": "python3"
  },
  "language_info": {
   "codemirror_mode": {
    "name": "ipython",
    "version": 3
   },
   "file_extension": ".py",
   "mimetype": "text/x-python",
   "name": "python",
   "nbconvert_exporter": "python",
   "pygments_lexer": "ipython3",
   "version": "3.11.5"
  }
 },
 "nbformat": 4,
 "nbformat_minor": 2
}
