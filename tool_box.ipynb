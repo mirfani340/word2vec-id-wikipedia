{
 "cells": [
  {
   "cell_type": "markdown",
   "metadata": {},
   "source": [
    "### Datasets Merger"
   ]
  },
  {
   "cell_type": "code",
   "execution_count": null,
   "metadata": {},
   "outputs": [],
   "source": [
    "# Specify the paths to your two TXT files\n",
    "file1_path = './datasets/2023/txt/idwiki_20230520.txt'\n",
    "file2_path = './datasets/2023/txt/idwiki_new_lower_latest.txt'\n",
    "\n",
    "# Specify the path for the merged dataset\n",
    "merged_file_path = './datasets/merged_dataset.txt'\n",
    "\n",
    "# Open the first file and read its content\n",
    "with open(file1_path, 'r', encoding='utf-8') as file1:\n",
    "    data1 = file1.read()\n",
    "\n",
    "# Open the second file and read its content\n",
    "with open(file2_path, 'r', encoding='utf-8') as file2:\n",
    "    data2 = file2.read()\n",
    "\n",
    "# Combine the content of the two files\n",
    "merged_data = data1 + '\\n' + data2\n",
    "\n",
    "# Write the merged data to a new file\n",
    "with open(merged_file_path, 'w', encoding='utf-8') as merged_file:\n",
    "    merged_file.write(merged_data)\n",
    "\n",
    "print('Datasets merged and saved as', merged_file_path)\n"
   ]
  },
  {
   "cell_type": "markdown",
   "metadata": {},
   "source": [
    "### Model Testing"
   ]
  },
  {
   "cell_type": "code",
   "execution_count": null,
   "metadata": {},
   "outputs": [],
   "source": [
    "from gensim.models import Word2Vec\n",
    "# Load the trained Word2Vec model\n",
    "model = Word2Vec.load('model/idwiki_word2vec_200_skip-gram_window_2_new_lower.model')\n",
    "\n",
    "# Get word vectors for user input\n",
    "user_input = input(\"Enter your custom text: \")\n",
    "user_tokens = user_input.split()\n",
    "\n",
    "# Initialize an empty list to store word vectors\n",
    "word_vectors = []\n",
    "\n",
    "# Iterate through the tokens in the user input\n",
    "for word in user_tokens:\n",
    "    if word in model.wv:\n",
    "        word_vectors.append(model.wv[word])\n",
    "    else:\n",
    "        print(f\"Word '{word}' not in vocabulary\")\n",
    "\n",
    "# Perform operations on word vectors\n",
    "if word_vectors:\n",
    "    # Find words similar to the words in the user input\n",
    "    similar_words = model.wv.most_similar(positive=word_vectors, topn=5)\n",
    "\n",
    "    print(\"\\nWords similar to user input:\")\n",
    "    for word, similarity in similar_words:\n",
    "        print(f\"{word}: {similarity}\")\n",
    "else:\n",
    "    print(\"No valid words found in the vocabulary for similarity analysis.\")\n"
   ]
  },
  {
   "cell_type": "markdown",
   "metadata": {},
   "source": [
    "### Model Checks"
   ]
  },
  {
   "cell_type": "code",
   "execution_count": null,
   "metadata": {},
   "outputs": [],
   "source": [
    "from gensim.models import Word2Vec\n",
    "\n",
    "# Load the Word2Vec model\n",
    "model = Word2Vec.load('./model/windows_2/idwiki_word2vec_200_skip-gram_window_2_new_lower.model')\n",
    "\n",
    "# Check the 'sg' parameter\n",
    "if model.sg == 1:\n",
    "    print(\"The model was trained using Skip-gram.\")\n",
    "    print(f\"Windows size: {model.window}\")\n",
    "else:\n",
    "    print(\"The model was trained using CBOW.\")"
   ]
  },
  {
   "cell_type": "markdown",
   "metadata": {},
   "source": [
    "### Model Architecture Compare"
   ]
  },
  {
   "cell_type": "code",
   "execution_count": null,
   "metadata": {},
   "outputs": [],
   "source": [
    "from gensim.models import Word2Vec\n",
    "\n",
    "# Load your pre-trained Word2Vec models\n",
    "model1 = Word2Vec.load(\"../skripsi/pre-trained-model/word2vec_wikipedia_id_model/wiki.id.case.model\")\n",
    "model2 = Word2Vec.load(\"./model/windows_5/idwiki_word2vec_200_skip-gram_window_5_new_lower.model\")\n",
    "\n",
    "# Compare the architectures of the two models\n",
    "def compare_architecture(model1, model2):\n",
    "    architecture_comparison = {}\n",
    "\n",
    "    # Compare vector size (embedding dimension)\n",
    "    architecture_comparison[\"Vector Size (Embedding Dimension)\"] = {\n",
    "        \"Model 1\": model1.vector_size,\n",
    "        \"Model 2\": model2.vector_size,\n",
    "    }\n",
    "\n",
    "    # Compare context window size\n",
    "    architecture_comparison[\"Context Window Size\"] = {\n",
    "        \"Model 1\": model1.window,\n",
    "        \"Model 2\": model2.window,\n",
    "    }\n",
    "\n",
    "    # Compare training algorithm (Skip-gram or CBOW)\n",
    "    architecture_comparison[\"Training Algorithm\"] = {\n",
    "        \"Model 1\": \"Skip-gram\" if model1.sg else \"CBOW\",\n",
    "        \"Model 2\": \"Skip-gram\" if model2.sg else \"CBOW\",\n",
    "    }\n",
    "\n",
    "    # Compare corpus size (number of sentences)\n",
    "    architecture_comparison[\"Corpus Size (Number of Sentences)\"] = {\n",
    "        \"Model 1\": model1.corpus_count,\n",
    "        \"Model 2\": model2.corpus_count,\n",
    "    }\n",
    "\n",
    "    # Add more architecture comparisons as needed\n",
    "\n",
    "    return architecture_comparison\n",
    "\n",
    "# Compare the architectures of the two models\n",
    "architecture_comparison_result = compare_architecture(model1, model2)\n",
    "\n",
    "# Print the comparison results\n",
    "for aspect, values in architecture_comparison_result.items():\n",
    "    print(aspect)\n",
    "    for model_name, value in values.items():\n",
    "        print(f\"- {model_name}: {value}\")\n",
    "\n",
    "# You can add more aspects to compare based on your requirements.\n"
   ]
  },
  {
   "cell_type": "markdown",
   "metadata": {},
   "source": [
    "### Datasets Checks"
   ]
  },
  {
   "cell_type": "code",
   "execution_count": null,
   "metadata": {},
   "outputs": [],
   "source": [
    "import pandas as pd\n",
    "\n",
    "csv_path = \"./datasets/wikipedia_id-clean.csv\"\n",
    "\n",
    "df = pd.read_csv(csv_path)\n",
    "\n",
    "df"
   ]
  }
 ],
 "metadata": {
  "kernelspec": {
   "display_name": "ai",
   "language": "python",
   "name": "python3"
  },
  "language_info": {
   "codemirror_mode": {
    "name": "ipython",
    "version": 3
   },
   "file_extension": ".py",
   "mimetype": "text/x-python",
   "name": "python",
   "nbconvert_exporter": "python",
   "pygments_lexer": "ipython3",
   "version": "3.7.16"
  }
 },
 "nbformat": 4,
 "nbformat_minor": 2
}
