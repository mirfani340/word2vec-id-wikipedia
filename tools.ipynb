{
 "cells": [
  {
   "cell_type": "markdown",
   "metadata": {},
   "source": [
    "### Model Testing"
   ]
  },
  {
   "cell_type": "code",
   "execution_count": null,
   "metadata": {},
   "outputs": [],
   "source": [
    "from gensim.models import Word2Vec\n",
    "\n",
    "# Load the trained Word2Vec model\n",
    "model = Word2Vec.load('model/idwiki_word2vec_200_skip-gram_window_2_new_lower.model')\n",
    "\n",
    "# Get word vectors for user input\n",
    "user_input = input(\"Enter your custom text: \")\n",
    "user_tokens = user_input.split()\n",
    "\n",
    "# Initialize an empty list to store word vectors\n",
    "word_vectors = []\n",
    "\n",
    "# Iterate through the tokens in the user input\n",
    "for word in user_tokens:\n",
    "    if word in model.wv:\n",
    "        word_vectors.append(model.wv[word])\n",
    "    else:\n",
    "        print(f\"Word '{word}' not in vocabulary\")\n",
    "\n",
    "# Perform operations on word vectors\n",
    "if word_vectors:\n",
    "    # Find words similar to the words in the user input\n",
    "    similar_words = model.wv.most_similar(positive=word_vectors, topn=5)\n",
    "    \n",
    "    print(\"\\nWords similar to user input:\")\n",
    "    for word, similarity in similar_words:\n",
    "        print(f\"{word}: {similarity}\")\n",
    "else:\n",
    "    print(\"No valid words found in the vocabulary for similarity analysis.\")\n"
   ]
  },
  {
   "cell_type": "markdown",
   "metadata": {},
   "source": [
    "### Model Checks"
   ]
  },
  {
   "cell_type": "code",
   "execution_count": null,
   "metadata": {},
   "outputs": [],
   "source": [
    "from gensim.models import Word2Vec\n",
    "\n",
    "# Load the Word2Vec model\n",
    "model = Word2Vec.load('./model/windows_2/idwiki_word2vec_200_skip-gram_window_2_new_lower.model')\n",
    "\n",
    "# Check the 'sg' parameter\n",
    "if model.sg == 1:\n",
    "    print(\"The model was trained using Skip-gram.\")\n",
    "    print(f\"Windows size: {model.window}\")\n",
    "else:\n",
    "    print(\"The model was trained using CBOW.\")\n"
   ]
  },
  {
   "cell_type": "markdown",
   "metadata": {},
   "source": [
    "### Model Architecture Compare"
   ]
  },
  {
   "cell_type": "code",
   "execution_count": null,
   "metadata": {},
   "outputs": [],
   "source": [
    "from gensim.models import Word2Vec\n",
    "\n",
    "# Load your pre-trained Word2Vec models\n",
    "model1 = Word2Vec.load(\"../skripsi/pre-trained-model/word2vec_wikipedia_id_model/wiki.id.case.model\")\n",
    "model2 = Word2Vec.load(\"./model/windows_5/idwiki_word2vec_200_skip-gram_window_5_new_lower.model\")\n",
    "\n",
    "# Compare the architectures of the two models\n",
    "def compare_architecture(model1, model2):\n",
    "    architecture_comparison = {}\n",
    "\n",
    "    # Compare vector size (embedding dimension)\n",
    "    architecture_comparison[\"Vector Size (Embedding Dimension)\"] = {\n",
    "        \"Model 1\": model1.vector_size,\n",
    "        \"Model 2\": model2.vector_size,\n",
    "    }\n",
    "\n",
    "    # Compare context window size\n",
    "    architecture_comparison[\"Context Window Size\"] = {\n",
    "        \"Model 1\": model1.window,\n",
    "        \"Model 2\": model2.window,\n",
    "    }\n",
    "\n",
    "    # Compare training algorithm (Skip-gram or CBOW)\n",
    "    architecture_comparison[\"Training Algorithm\"] = {\n",
    "        \"Model 1\": \"Skip-gram\" if model1.sg else \"CBOW\",\n",
    "        \"Model 2\": \"Skip-gram\" if model2.sg else \"CBOW\",\n",
    "    }\n",
    "\n",
    "    # Compare corpus size (number of sentences)\n",
    "    architecture_comparison[\"Corpus Size (Number of Sentences)\"] = {\n",
    "        \"Model 1\": model1.corpus_count,\n",
    "        \"Model 2\": model2.corpus_count,\n",
    "    }\n",
    "\n",
    "    # Add more architecture comparisons as needed\n",
    "\n",
    "    return architecture_comparison\n",
    "\n",
    "# Compare the architectures of the two models\n",
    "architecture_comparison_result = compare_architecture(model1, model2)\n",
    "\n",
    "# Print the comparison results\n",
    "for aspect, values in architecture_comparison_result.items():\n",
    "    print(aspect)\n",
    "    for model_name, value in values.items():\n",
    "        print(f\"- {model_name}: {value}\")\n",
    "\n",
    "# You can add more aspects to compare based on your requirements.\n"
   ]
  }
 ],
 "metadata": {
  "language_info": {
   "name": "python"
  }
 },
 "nbformat": 4,
 "nbformat_minor": 2
}
